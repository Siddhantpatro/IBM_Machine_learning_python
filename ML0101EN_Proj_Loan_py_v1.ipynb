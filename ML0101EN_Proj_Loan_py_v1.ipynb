{
  "nbformat": 4,
  "nbformat_minor": 0,
  "metadata": {
    "kernelspec": {
      "display_name": "Python 3",
      "language": "python",
      "name": "python3"
    },
    "language_info": {
      "codemirror_mode": {
        "name": "ipython",
        "version": 3
      },
      "file_extension": ".py",
      "mimetype": "text/x-python",
      "name": "python",
      "nbconvert_exporter": "python",
      "pygments_lexer": "ipython3",
      "version": "3.6.6"
    },
    "colab": {
      "name": "ML0101EN-Proj-Loan-py-v1.ipynb",
      "provenance": []
    }
  },
  "cells": [
    {
      "cell_type": "markdown",
      "metadata": {
        "button": false,
        "deletable": true,
        "new_sheet": false,
        "run_control": {
          "read_only": false
        },
        "id": "GB7nC06blzP5"
      },
      "source": [
        "<a href=\"https://www.bigdatauniversity.com\"><img src=\"https://ibm.box.com/shared/static/cw2c7r3o20w9zn8gkecaeyjhgw3xdgbj.png\" width=\"400\" align=\"center\"></a>\n",
        "\n",
        "<h1 align=\"center\"><font size=\"5\">Classification with Python</font></h1>"
      ]
    },
    {
      "cell_type": "markdown",
      "metadata": {
        "button": false,
        "deletable": true,
        "new_sheet": false,
        "run_control": {
          "read_only": false
        },
        "id": "d8DWGUg_lzQE"
      },
      "source": [
        "In this notebook we try to practice all the classification algorithms that we learned in this course.\n",
        "\n",
        "We load a dataset using Pandas library, and apply the following algorithms, and find the best one for this specific dataset by accuracy evaluation methods.\n",
        "\n",
        "Lets first load required libraries:"
      ]
    },
    {
      "cell_type": "code",
      "metadata": {
        "button": false,
        "collapsed": true,
        "deletable": true,
        "new_sheet": false,
        "run_control": {
          "read_only": false
        },
        "id": "DqwbOTD9lzQG"
      },
      "source": [
        "import itertools\n",
        "import numpy as np\n",
        "import matplotlib.pyplot as plt\n",
        "from matplotlib.ticker import NullFormatter\n",
        "import pandas as pd\n",
        "import numpy as np\n",
        "import matplotlib.ticker as ticker\n",
        "from sklearn import preprocessing\n",
        "%matplotlib inline"
      ],
      "execution_count": 1,
      "outputs": []
    },
    {
      "cell_type": "markdown",
      "metadata": {
        "button": false,
        "deletable": true,
        "new_sheet": false,
        "run_control": {
          "read_only": false
        },
        "id": "McJnBsSclzQH"
      },
      "source": [
        "### About dataset"
      ]
    },
    {
      "cell_type": "markdown",
      "metadata": {
        "button": false,
        "deletable": true,
        "new_sheet": false,
        "run_control": {
          "read_only": false
        },
        "id": "FB2DClvLlzQI"
      },
      "source": [
        "This dataset is about past loans. The __Loan_train.csv__ data set includes details of 346 customers whose loan are already paid off or defaulted. It includes following fields:\n",
        "\n",
        "| Field          | Description                                                                           |\n",
        "|----------------|---------------------------------------------------------------------------------------|\n",
        "| Loan_status    | Whether a loan is paid off on in collection                                           |\n",
        "| Principal      | Basic principal loan amount at the                                                    |\n",
        "| Terms          | Origination terms which can be weekly (7 days), biweekly, and monthly payoff schedule |\n",
        "| Effective_date | When the loan got originated and took effects                                         |\n",
        "| Due_date       | Since it’s one-time payoff schedule, each loan has one single due date                |\n",
        "| Age            | Age of applicant                                                                      |\n",
        "| Education      | Education of applicant                                                                |\n",
        "| Gender         | The gender of applicant                                                               |"
      ]
    },
    {
      "cell_type": "markdown",
      "metadata": {
        "button": false,
        "deletable": true,
        "new_sheet": false,
        "run_control": {
          "read_only": false
        },
        "id": "Li6T39ajlzQK"
      },
      "source": [
        "Lets download the dataset"
      ]
    },
    {
      "cell_type": "code",
      "metadata": {
        "button": false,
        "collapsed": true,
        "deletable": true,
        "new_sheet": false,
        "run_control": {
          "read_only": false
        },
        "colab": {
          "base_uri": "https://localhost:8080/"
        },
        "id": "FKuAH8WtlzQL",
        "outputId": "aba23902-be86-4534-8c0e-7a8832f5bf51"
      },
      "source": [
        "!wget -O loan_train.csv https://s3-api.us-geo.objectstorage.softlayer.net/cf-courses-data/CognitiveClass/ML0101ENv3/labs/loan_train.csv"
      ],
      "execution_count": 2,
      "outputs": [
        {
          "output_type": "stream",
          "text": [
            "--2021-02-16 16:06:14--  https://s3-api.us-geo.objectstorage.softlayer.net/cf-courses-data/CognitiveClass/ML0101ENv3/labs/loan_train.csv\n",
            "Resolving s3-api.us-geo.objectstorage.softlayer.net (s3-api.us-geo.objectstorage.softlayer.net)... 67.228.254.196\n",
            "Connecting to s3-api.us-geo.objectstorage.softlayer.net (s3-api.us-geo.objectstorage.softlayer.net)|67.228.254.196|:443... connected.\n",
            "HTTP request sent, awaiting response... 200 OK\n",
            "Length: 23101 (23K) [text/csv]\n",
            "Saving to: ‘loan_train.csv’\n",
            "\n",
            "loan_train.csv      100%[===================>]  22.56K  --.-KB/s    in 0.02s   \n",
            "\n",
            "2021-02-16 16:06:15 (1.09 MB/s) - ‘loan_train.csv’ saved [23101/23101]\n",
            "\n"
          ],
          "name": "stdout"
        }
      ]
    },
    {
      "cell_type": "markdown",
      "metadata": {
        "button": false,
        "deletable": true,
        "new_sheet": false,
        "run_control": {
          "read_only": false
        },
        "id": "P0KmP-xGlzQN"
      },
      "source": [
        "### Load Data From CSV File  "
      ]
    },
    {
      "cell_type": "code",
      "metadata": {
        "button": false,
        "collapsed": true,
        "deletable": true,
        "new_sheet": false,
        "run_control": {
          "read_only": false
        },
        "colab": {
          "base_uri": "https://localhost:8080/",
          "height": 195
        },
        "id": "QtPFFZtklzQO",
        "outputId": "6922d073-3144-4a58-9951-0dc83a840e38"
      },
      "source": [
        "df = pd.read_csv('loan_train.csv')\n",
        "df.head()"
      ],
      "execution_count": 3,
      "outputs": [
        {
          "output_type": "execute_result",
          "data": {
            "text/html": [
              "<div>\n",
              "<style scoped>\n",
              "    .dataframe tbody tr th:only-of-type {\n",
              "        vertical-align: middle;\n",
              "    }\n",
              "\n",
              "    .dataframe tbody tr th {\n",
              "        vertical-align: top;\n",
              "    }\n",
              "\n",
              "    .dataframe thead th {\n",
              "        text-align: right;\n",
              "    }\n",
              "</style>\n",
              "<table border=\"1\" class=\"dataframe\">\n",
              "  <thead>\n",
              "    <tr style=\"text-align: right;\">\n",
              "      <th></th>\n",
              "      <th>Unnamed: 0</th>\n",
              "      <th>Unnamed: 0.1</th>\n",
              "      <th>loan_status</th>\n",
              "      <th>Principal</th>\n",
              "      <th>terms</th>\n",
              "      <th>effective_date</th>\n",
              "      <th>due_date</th>\n",
              "      <th>age</th>\n",
              "      <th>education</th>\n",
              "      <th>Gender</th>\n",
              "    </tr>\n",
              "  </thead>\n",
              "  <tbody>\n",
              "    <tr>\n",
              "      <th>0</th>\n",
              "      <td>0</td>\n",
              "      <td>0</td>\n",
              "      <td>PAIDOFF</td>\n",
              "      <td>1000</td>\n",
              "      <td>30</td>\n",
              "      <td>9/8/2016</td>\n",
              "      <td>10/7/2016</td>\n",
              "      <td>45</td>\n",
              "      <td>High School or Below</td>\n",
              "      <td>male</td>\n",
              "    </tr>\n",
              "    <tr>\n",
              "      <th>1</th>\n",
              "      <td>2</td>\n",
              "      <td>2</td>\n",
              "      <td>PAIDOFF</td>\n",
              "      <td>1000</td>\n",
              "      <td>30</td>\n",
              "      <td>9/8/2016</td>\n",
              "      <td>10/7/2016</td>\n",
              "      <td>33</td>\n",
              "      <td>Bechalor</td>\n",
              "      <td>female</td>\n",
              "    </tr>\n",
              "    <tr>\n",
              "      <th>2</th>\n",
              "      <td>3</td>\n",
              "      <td>3</td>\n",
              "      <td>PAIDOFF</td>\n",
              "      <td>1000</td>\n",
              "      <td>15</td>\n",
              "      <td>9/8/2016</td>\n",
              "      <td>9/22/2016</td>\n",
              "      <td>27</td>\n",
              "      <td>college</td>\n",
              "      <td>male</td>\n",
              "    </tr>\n",
              "    <tr>\n",
              "      <th>3</th>\n",
              "      <td>4</td>\n",
              "      <td>4</td>\n",
              "      <td>PAIDOFF</td>\n",
              "      <td>1000</td>\n",
              "      <td>30</td>\n",
              "      <td>9/9/2016</td>\n",
              "      <td>10/8/2016</td>\n",
              "      <td>28</td>\n",
              "      <td>college</td>\n",
              "      <td>female</td>\n",
              "    </tr>\n",
              "    <tr>\n",
              "      <th>4</th>\n",
              "      <td>6</td>\n",
              "      <td>6</td>\n",
              "      <td>PAIDOFF</td>\n",
              "      <td>1000</td>\n",
              "      <td>30</td>\n",
              "      <td>9/9/2016</td>\n",
              "      <td>10/8/2016</td>\n",
              "      <td>29</td>\n",
              "      <td>college</td>\n",
              "      <td>male</td>\n",
              "    </tr>\n",
              "  </tbody>\n",
              "</table>\n",
              "</div>"
            ],
            "text/plain": [
              "   Unnamed: 0  Unnamed: 0.1 loan_status  ...  age             education  Gender\n",
              "0           0             0     PAIDOFF  ...   45  High School or Below    male\n",
              "1           2             2     PAIDOFF  ...   33              Bechalor  female\n",
              "2           3             3     PAIDOFF  ...   27               college    male\n",
              "3           4             4     PAIDOFF  ...   28               college  female\n",
              "4           6             6     PAIDOFF  ...   29               college    male\n",
              "\n",
              "[5 rows x 10 columns]"
            ]
          },
          "metadata": {
            "tags": []
          },
          "execution_count": 3
        }
      ]
    },
    {
      "cell_type": "code",
      "metadata": {
        "colab": {
          "base_uri": "https://localhost:8080/"
        },
        "id": "WoZJdt7KlzQP",
        "outputId": "373b7fe8-7ee6-4443-e980-a93ea3e9983c"
      },
      "source": [
        "df.shape"
      ],
      "execution_count": 4,
      "outputs": [
        {
          "output_type": "execute_result",
          "data": {
            "text/plain": [
              "(346, 10)"
            ]
          },
          "metadata": {
            "tags": []
          },
          "execution_count": 4
        }
      ]
    },
    {
      "cell_type": "markdown",
      "metadata": {
        "button": false,
        "deletable": true,
        "new_sheet": false,
        "run_control": {
          "read_only": false
        },
        "id": "ZeQQrfXklzQP"
      },
      "source": [
        "### Convert to date time object "
      ]
    },
    {
      "cell_type": "code",
      "metadata": {
        "button": false,
        "collapsed": true,
        "deletable": true,
        "new_sheet": false,
        "run_control": {
          "read_only": false
        },
        "colab": {
          "base_uri": "https://localhost:8080/",
          "height": 195
        },
        "id": "kfzhs3eZlzQQ",
        "outputId": "82d8c54d-8ea4-4874-bce5-af10e1973840"
      },
      "source": [
        "df['due_date'] = pd.to_datetime(df['due_date'])\n",
        "df['effective_date'] = pd.to_datetime(df['effective_date'])\n",
        "df.head()"
      ],
      "execution_count": 5,
      "outputs": [
        {
          "output_type": "execute_result",
          "data": {
            "text/html": [
              "<div>\n",
              "<style scoped>\n",
              "    .dataframe tbody tr th:only-of-type {\n",
              "        vertical-align: middle;\n",
              "    }\n",
              "\n",
              "    .dataframe tbody tr th {\n",
              "        vertical-align: top;\n",
              "    }\n",
              "\n",
              "    .dataframe thead th {\n",
              "        text-align: right;\n",
              "    }\n",
              "</style>\n",
              "<table border=\"1\" class=\"dataframe\">\n",
              "  <thead>\n",
              "    <tr style=\"text-align: right;\">\n",
              "      <th></th>\n",
              "      <th>Unnamed: 0</th>\n",
              "      <th>Unnamed: 0.1</th>\n",
              "      <th>loan_status</th>\n",
              "      <th>Principal</th>\n",
              "      <th>terms</th>\n",
              "      <th>effective_date</th>\n",
              "      <th>due_date</th>\n",
              "      <th>age</th>\n",
              "      <th>education</th>\n",
              "      <th>Gender</th>\n",
              "    </tr>\n",
              "  </thead>\n",
              "  <tbody>\n",
              "    <tr>\n",
              "      <th>0</th>\n",
              "      <td>0</td>\n",
              "      <td>0</td>\n",
              "      <td>PAIDOFF</td>\n",
              "      <td>1000</td>\n",
              "      <td>30</td>\n",
              "      <td>2016-09-08</td>\n",
              "      <td>2016-10-07</td>\n",
              "      <td>45</td>\n",
              "      <td>High School or Below</td>\n",
              "      <td>male</td>\n",
              "    </tr>\n",
              "    <tr>\n",
              "      <th>1</th>\n",
              "      <td>2</td>\n",
              "      <td>2</td>\n",
              "      <td>PAIDOFF</td>\n",
              "      <td>1000</td>\n",
              "      <td>30</td>\n",
              "      <td>2016-09-08</td>\n",
              "      <td>2016-10-07</td>\n",
              "      <td>33</td>\n",
              "      <td>Bechalor</td>\n",
              "      <td>female</td>\n",
              "    </tr>\n",
              "    <tr>\n",
              "      <th>2</th>\n",
              "      <td>3</td>\n",
              "      <td>3</td>\n",
              "      <td>PAIDOFF</td>\n",
              "      <td>1000</td>\n",
              "      <td>15</td>\n",
              "      <td>2016-09-08</td>\n",
              "      <td>2016-09-22</td>\n",
              "      <td>27</td>\n",
              "      <td>college</td>\n",
              "      <td>male</td>\n",
              "    </tr>\n",
              "    <tr>\n",
              "      <th>3</th>\n",
              "      <td>4</td>\n",
              "      <td>4</td>\n",
              "      <td>PAIDOFF</td>\n",
              "      <td>1000</td>\n",
              "      <td>30</td>\n",
              "      <td>2016-09-09</td>\n",
              "      <td>2016-10-08</td>\n",
              "      <td>28</td>\n",
              "      <td>college</td>\n",
              "      <td>female</td>\n",
              "    </tr>\n",
              "    <tr>\n",
              "      <th>4</th>\n",
              "      <td>6</td>\n",
              "      <td>6</td>\n",
              "      <td>PAIDOFF</td>\n",
              "      <td>1000</td>\n",
              "      <td>30</td>\n",
              "      <td>2016-09-09</td>\n",
              "      <td>2016-10-08</td>\n",
              "      <td>29</td>\n",
              "      <td>college</td>\n",
              "      <td>male</td>\n",
              "    </tr>\n",
              "  </tbody>\n",
              "</table>\n",
              "</div>"
            ],
            "text/plain": [
              "   Unnamed: 0  Unnamed: 0.1 loan_status  ...  age             education  Gender\n",
              "0           0             0     PAIDOFF  ...   45  High School or Below    male\n",
              "1           2             2     PAIDOFF  ...   33              Bechalor  female\n",
              "2           3             3     PAIDOFF  ...   27               college    male\n",
              "3           4             4     PAIDOFF  ...   28               college  female\n",
              "4           6             6     PAIDOFF  ...   29               college    male\n",
              "\n",
              "[5 rows x 10 columns]"
            ]
          },
          "metadata": {
            "tags": []
          },
          "execution_count": 5
        }
      ]
    },
    {
      "cell_type": "markdown",
      "metadata": {
        "button": false,
        "deletable": true,
        "new_sheet": false,
        "run_control": {
          "read_only": false
        },
        "id": "w1oLoIAxlzQQ"
      },
      "source": [
        "# Data visualization and pre-processing\n",
        "\n"
      ]
    },
    {
      "cell_type": "markdown",
      "metadata": {
        "button": false,
        "deletable": true,
        "new_sheet": false,
        "run_control": {
          "read_only": false
        },
        "id": "LQSFvG8ZlzQR"
      },
      "source": [
        "Let’s see how many of each class is in our data set "
      ]
    },
    {
      "cell_type": "code",
      "metadata": {
        "button": false,
        "collapsed": true,
        "deletable": true,
        "new_sheet": false,
        "run_control": {
          "read_only": false
        },
        "colab": {
          "base_uri": "https://localhost:8080/"
        },
        "id": "z3vCyFdtlzQR",
        "outputId": "14ce2a2f-21bd-44d0-fe42-d0d4f943c87c"
      },
      "source": [
        "df['loan_status'].value_counts()"
      ],
      "execution_count": 6,
      "outputs": [
        {
          "output_type": "execute_result",
          "data": {
            "text/plain": [
              "PAIDOFF       260\n",
              "COLLECTION     86\n",
              "Name: loan_status, dtype: int64"
            ]
          },
          "metadata": {
            "tags": []
          },
          "execution_count": 6
        }
      ]
    },
    {
      "cell_type": "markdown",
      "metadata": {
        "button": false,
        "deletable": true,
        "new_sheet": false,
        "run_control": {
          "read_only": false
        },
        "id": "KsQtSECilzQS"
      },
      "source": [
        "260 people have paid off the loan on time while 86 have gone into collection \n"
      ]
    },
    {
      "cell_type": "markdown",
      "metadata": {
        "id": "ZDpJYpdJlzQS"
      },
      "source": [
        "Lets plot some columns to underestand data better:"
      ]
    },
    {
      "cell_type": "code",
      "metadata": {
        "colab": {
          "base_uri": "https://localhost:8080/"
        },
        "id": "ai5EdZW0lzQS",
        "outputId": "9f467c27-f39b-4205-95b3-a1bac285d1ae"
      },
      "source": [
        "# notice: installing seaborn might takes a few minutes\n",
        "!conda install -c anaconda seaborn -y"
      ],
      "execution_count": 7,
      "outputs": [
        {
          "output_type": "stream",
          "text": [
            "/bin/bash: conda: command not found\n"
          ],
          "name": "stdout"
        }
      ]
    },
    {
      "cell_type": "code",
      "metadata": {
        "colab": {
          "base_uri": "https://localhost:8080/",
          "height": 225
        },
        "id": "eFDfeQ82lzQT",
        "outputId": "944b8617-16cd-4eeb-a230-b6875b42ff7a"
      },
      "source": [
        "import seaborn as sns\n",
        "\n",
        "bins = np.linspace(df.Principal.min(), df.Principal.max(), 10)\n",
        "g = sns.FacetGrid(df, col=\"Gender\", hue=\"loan_status\", palette=\"Set1\", col_wrap=2)\n",
        "g.map(plt.hist, 'Principal', bins=bins, ec=\"k\")\n",
        "\n",
        "g.axes[-1].legend()\n",
        "plt.show()"
      ],
      "execution_count": 8,
      "outputs": [
        {
          "output_type": "display_data",
          "data": {
            "image/png": "[encoded data removed]",
            "text/plain": [
              "<Figure size 432x216 with 2 Axes>"
            ]
          },
          "metadata": {
            "tags": [],
            "needs_background": "light"
          }
        }
      ]
    },
    {
      "cell_type": "code",
      "metadata": {
        "button": false,
        "collapsed": true,
        "deletable": true,
        "new_sheet": false,
        "run_control": {
          "read_only": false
        },
        "colab": {
          "base_uri": "https://localhost:8080/",
          "height": 225
        },
        "id": "9ainzfm1lzQT",
        "outputId": "82bbaa21-5dc0-4c82-d60f-b2476b50a3ec"
      },
      "source": [
        "bins = np.linspace(df.age.min(), df.age.max(), 10)\n",
        "g = sns.FacetGrid(df, col=\"Gender\", hue=\"loan_status\", palette=\"Set1\", col_wrap=2)\n",
        "g.map(plt.hist, 'age', bins=bins, ec=\"k\")\n",
        "\n",
        "g.axes[-1].legend()\n",
        "plt.show()"
      ],
      "execution_count": 9,
      "outputs": [
        {
          "output_type": "display_data",
          "data": {
            "image/png": "[encoded data removed]",
            "text/plain": [
              "<Figure size 432x216 with 2 Axes>"
            ]
          },
          "metadata": {
            "tags": [],
            "needs_background": "light"
          }
        }
      ]
    },
    {
      "cell_type": "markdown",
      "metadata": {
        "button": false,
        "deletable": true,
        "new_sheet": false,
        "run_control": {
          "read_only": false
        },
        "id": "hcLmYmoZlzQU"
      },
      "source": [
        "# Pre-processing:  Feature selection/extraction"
      ]
    },
    {
      "cell_type": "markdown",
      "metadata": {
        "button": false,
        "deletable": true,
        "new_sheet": false,
        "run_control": {
          "read_only": false
        },
        "id": "QuZtkouklzQU"
      },
      "source": [
        "### Lets look at the day of the week people get the loan "
      ]
    },
    {
      "cell_type": "code",
      "metadata": {
        "button": false,
        "collapsed": true,
        "deletable": true,
        "new_sheet": false,
        "run_control": {
          "read_only": false
        },
        "id": "kmtz3aj6lzQV",
        "outputId": "d84a242b-b3ef-4cfe-de01-b2f9a275608e"
      },
      "source": [
        "df['dayofweek'] = df['effective_date'].dt.dayofweek\n",
        "bins = np.linspace(df.dayofweek.min(), df.dayofweek.max(), 10)\n",
        "g = sns.FacetGrid(df, col=\"Gender\", hue=\"loan_status\", palette=\"Set1\", col_wrap=2)\n",
        "g.map(plt.hist, 'dayofweek', bins=bins, ec=\"k\")\n",
        "g.axes[-1].legend()\n",
        "plt.show()\n"
      ],
      "execution_count": null,
      "outputs": [
        {
          "output_type": "display_data",
          "data": {
            "image/png": "[encoded data removed]",
            "text/plain": [
              "<Figure size 432x216 with 2 Axes>"
            ]
          },
          "metadata": {
            "tags": []
          }
        }
      ]
    },
    {
      "cell_type": "markdown",
      "metadata": {
        "button": false,
        "deletable": true,
        "new_sheet": false,
        "run_control": {
          "read_only": false
        },
        "id": "DSqtgp4jlzQV"
      },
      "source": [
        "We see that people who get the loan at the end of the week dont pay it off, so lets use Feature binarization to set a threshold values less then day 4 "
      ]
    },
    {
      "cell_type": "code",
      "metadata": {
        "button": false,
        "collapsed": true,
        "deletable": true,
        "new_sheet": false,
        "run_control": {
          "read_only": false
        },
        "id": "JC2Pdb0qlzQW",
        "outputId": "daad8b00-e50a-480d-a780-46c4158d9acc"
      },
      "source": [
        "df['weekend'] = df['dayofweek'].apply(lambda x: 1 if (x>3)  else 0)\n",
        "df.head()"
      ],
      "execution_count": null,
      "outputs": [
        {
          "output_type": "execute_result",
          "data": {
            "text/html": [
              "<div>\n",
              "<style scoped>\n",
              "    .dataframe tbody tr th:only-of-type {\n",
              "        vertical-align: middle;\n",
              "    }\n",
              "\n",
              "    .dataframe tbody tr th {\n",
              "        vertical-align: top;\n",
              "    }\n",
              "\n",
              "    .dataframe thead th {\n",
              "        text-align: right;\n",
              "    }\n",
              "</style>\n",
              "<table border=\"1\" class=\"dataframe\">\n",
              "  <thead>\n",
              "    <tr style=\"text-align: right;\">\n",
              "      <th></th>\n",
              "      <th>Unnamed: 0</th>\n",
              "      <th>Unnamed: 0.1</th>\n",
              "      <th>loan_status</th>\n",
              "      <th>Principal</th>\n",
              "      <th>terms</th>\n",
              "      <th>effective_date</th>\n",
              "      <th>due_date</th>\n",
              "      <th>age</th>\n",
              "      <th>education</th>\n",
              "      <th>Gender</th>\n",
              "      <th>dayofweek</th>\n",
              "      <th>weekend</th>\n",
              "    </tr>\n",
              "  </thead>\n",
              "  <tbody>\n",
              "    <tr>\n",
              "      <th>0</th>\n",
              "      <td>0</td>\n",
              "      <td>0</td>\n",
              "      <td>PAIDOFF</td>\n",
              "      <td>1000</td>\n",
              "      <td>30</td>\n",
              "      <td>2016-09-08</td>\n",
              "      <td>2016-10-07</td>\n",
              "      <td>45</td>\n",
              "      <td>High School or Below</td>\n",
              "      <td>male</td>\n",
              "      <td>3</td>\n",
              "      <td>0</td>\n",
              "    </tr>\n",
              "    <tr>\n",
              "      <th>1</th>\n",
              "      <td>2</td>\n",
              "      <td>2</td>\n",
              "      <td>PAIDOFF</td>\n",
              "      <td>1000</td>\n",
              "      <td>30</td>\n",
              "      <td>2016-09-08</td>\n",
              "      <td>2016-10-07</td>\n",
              "      <td>33</td>\n",
              "      <td>Bechalor</td>\n",
              "      <td>female</td>\n",
              "      <td>3</td>\n",
              "      <td>0</td>\n",
              "    </tr>\n",
              "    <tr>\n",
              "      <th>2</th>\n",
              "      <td>3</td>\n",
              "      <td>3</td>\n",
              "      <td>PAIDOFF</td>\n",
              "      <td>1000</td>\n",
              "      <td>15</td>\n",
              "      <td>2016-09-08</td>\n",
              "      <td>2016-09-22</td>\n",
              "      <td>27</td>\n",
              "      <td>college</td>\n",
              "      <td>male</td>\n",
              "      <td>3</td>\n",
              "      <td>0</td>\n",
              "    </tr>\n",
              "    <tr>\n",
              "      <th>3</th>\n",
              "      <td>4</td>\n",
              "      <td>4</td>\n",
              "      <td>PAIDOFF</td>\n",
              "      <td>1000</td>\n",
              "      <td>30</td>\n",
              "      <td>2016-09-09</td>\n",
              "      <td>2016-10-08</td>\n",
              "      <td>28</td>\n",
              "      <td>college</td>\n",
              "      <td>female</td>\n",
              "      <td>4</td>\n",
              "      <td>1</td>\n",
              "    </tr>\n",
              "    <tr>\n",
              "      <th>4</th>\n",
              "      <td>6</td>\n",
              "      <td>6</td>\n",
              "      <td>PAIDOFF</td>\n",
              "      <td>1000</td>\n",
              "      <td>30</td>\n",
              "      <td>2016-09-09</td>\n",
              "      <td>2016-10-08</td>\n",
              "      <td>29</td>\n",
              "      <td>college</td>\n",
              "      <td>male</td>\n",
              "      <td>4</td>\n",
              "      <td>1</td>\n",
              "    </tr>\n",
              "  </tbody>\n",
              "</table>\n",
              "</div>"
            ],
            "text/plain": [
              "   Unnamed: 0  Unnamed: 0.1 loan_status  Principal  terms effective_date  \\\n",
              "0           0             0     PAIDOFF       1000     30     2016-09-08   \n",
              "1           2             2     PAIDOFF       1000     30     2016-09-08   \n",
              "2           3             3     PAIDOFF       1000     15     2016-09-08   \n",
              "3           4             4     PAIDOFF       1000     30     2016-09-09   \n",
              "4           6             6     PAIDOFF       1000     30     2016-09-09   \n",
              "\n",
              "    due_date  age             education  Gender  dayofweek  weekend  \n",
              "0 2016-10-07   45  High School or Below    male          3        0  \n",
              "1 2016-10-07   33              Bechalor  female          3        0  \n",
              "2 2016-09-22   27               college    male          3        0  \n",
              "3 2016-10-08   28               college  female          4        1  \n",
              "4 2016-10-08   29               college    male          4        1  "
            ]
          },
          "metadata": {
            "tags": []
          },
          "execution_count": 11
        }
      ]
    },
    {
      "cell_type": "markdown",
      "metadata": {
        "button": false,
        "deletable": true,
        "new_sheet": false,
        "run_control": {
          "read_only": false
        },
        "id": "oGlvlWeylzQW"
      },
      "source": [
        "## Convert Categorical features to numerical values"
      ]
    },
    {
      "cell_type": "markdown",
      "metadata": {
        "button": false,
        "deletable": true,
        "new_sheet": false,
        "run_control": {
          "read_only": false
        },
        "id": "oEhYIcqIlzQW"
      },
      "source": [
        "Lets look at gender:"
      ]
    },
    {
      "cell_type": "code",
      "metadata": {
        "button": false,
        "collapsed": true,
        "deletable": true,
        "new_sheet": false,
        "run_control": {
          "read_only": false
        },
        "colab": {
          "base_uri": "https://localhost:8080/"
        },
        "id": "5tUbEZdulzQX",
        "outputId": "5777d0b6-db26-4604-9fbe-a9bfb3feebee"
      },
      "source": [
        "df.groupby(['Gender'])['loan_status'].value_counts(normalize=True)"
      ],
      "execution_count": 10,
      "outputs": [
        {
          "output_type": "execute_result",
          "data": {
            "text/plain": [
              "Gender  loan_status\n",
              "female  PAIDOFF        0.865385\n",
              "        COLLECTION     0.134615\n",
              "male    PAIDOFF        0.731293\n",
              "        COLLECTION     0.268707\n",
              "Name: loan_status, dtype: float64"
            ]
          },
          "metadata": {
            "tags": []
          },
          "execution_count": 10
        }
      ]
    },
    {
      "cell_type": "markdown",
      "metadata": {
        "button": false,
        "deletable": true,
        "new_sheet": false,
        "run_control": {
          "read_only": false
        },
        "id": "6hLCUW7wlzQX"
      },
      "source": [
        "86 % of female pay there loans while only 73 % of males pay there loan\n"
      ]
    },
    {
      "cell_type": "markdown",
      "metadata": {
        "button": false,
        "deletable": true,
        "new_sheet": false,
        "run_control": {
          "read_only": false
        },
        "id": "80NzqI9tlzQX"
      },
      "source": [
        "Lets convert male to 0 and female to 1:\n"
      ]
    },
    {
      "cell_type": "code",
      "metadata": {
        "button": false,
        "collapsed": true,
        "deletable": true,
        "new_sheet": false,
        "run_control": {
          "read_only": false
        },
        "colab": {
          "base_uri": "https://localhost:8080/",
          "height": 195
        },
        "id": "wz9Y4v3ilzQY",
        "outputId": "c4442fe8-f2d8-4466-9936-14dc4e91bb60"
      },
      "source": [
        "df['Gender'].replace(to_replace=['male','female'], value=[0,1],inplace=True)\n",
        "df.head()"
      ],
      "execution_count": 11,
      "outputs": [
        {
          "output_type": "execute_result",
          "data": {
            "text/html": [
              "<div>\n",
              "<style scoped>\n",
              "    .dataframe tbody tr th:only-of-type {\n",
              "        vertical-align: middle;\n",
              "    }\n",
              "\n",
              "    .dataframe tbody tr th {\n",
              "        vertical-align: top;\n",
              "    }\n",
              "\n",
              "    .dataframe thead th {\n",
              "        text-align: right;\n",
              "    }\n",
              "</style>\n",
              "<table border=\"1\" class=\"dataframe\">\n",
              "  <thead>\n",
              "    <tr style=\"text-align: right;\">\n",
              "      <th></th>\n",
              "      <th>Unnamed: 0</th>\n",
              "      <th>Unnamed: 0.1</th>\n",
              "      <th>loan_status</th>\n",
              "      <th>Principal</th>\n",
              "      <th>terms</th>\n",
              "      <th>effective_date</th>\n",
              "      <th>due_date</th>\n",
              "      <th>age</th>\n",
              "      <th>education</th>\n",
              "      <th>Gender</th>\n",
              "    </tr>\n",
              "  </thead>\n",
              "  <tbody>\n",
              "    <tr>\n",
              "      <th>0</th>\n",
              "      <td>0</td>\n",
              "      <td>0</td>\n",
              "      <td>PAIDOFF</td>\n",
              "      <td>1000</td>\n",
              "      <td>30</td>\n",
              "      <td>2016-09-08</td>\n",
              "      <td>2016-10-07</td>\n",
              "      <td>45</td>\n",
              "      <td>High School or Below</td>\n",
              "      <td>0</td>\n",
              "    </tr>\n",
              "    <tr>\n",
              "      <th>1</th>\n",
              "      <td>2</td>\n",
              "      <td>2</td>\n",
              "      <td>PAIDOFF</td>\n",
              "      <td>1000</td>\n",
              "      <td>30</td>\n",
              "      <td>2016-09-08</td>\n",
              "      <td>2016-10-07</td>\n",
              "      <td>33</td>\n",
              "      <td>Bechalor</td>\n",
              "      <td>1</td>\n",
              "    </tr>\n",
              "    <tr>\n",
              "      <th>2</th>\n",
              "      <td>3</td>\n",
              "      <td>3</td>\n",
              "      <td>PAIDOFF</td>\n",
              "      <td>1000</td>\n",
              "      <td>15</td>\n",
              "      <td>2016-09-08</td>\n",
              "      <td>2016-09-22</td>\n",
              "      <td>27</td>\n",
              "      <td>college</td>\n",
              "      <td>0</td>\n",
              "    </tr>\n",
              "    <tr>\n",
              "      <th>3</th>\n",
              "      <td>4</td>\n",
              "      <td>4</td>\n",
              "      <td>PAIDOFF</td>\n",
              "      <td>1000</td>\n",
              "      <td>30</td>\n",
              "      <td>2016-09-09</td>\n",
              "      <td>2016-10-08</td>\n",
              "      <td>28</td>\n",
              "      <td>college</td>\n",
              "      <td>1</td>\n",
              "    </tr>\n",
              "    <tr>\n",
              "      <th>4</th>\n",
              "      <td>6</td>\n",
              "      <td>6</td>\n",
              "      <td>PAIDOFF</td>\n",
              "      <td>1000</td>\n",
              "      <td>30</td>\n",
              "      <td>2016-09-09</td>\n",
              "      <td>2016-10-08</td>\n",
              "      <td>29</td>\n",
              "      <td>college</td>\n",
              "      <td>0</td>\n",
              "    </tr>\n",
              "  </tbody>\n",
              "</table>\n",
              "</div>"
            ],
            "text/plain": [
              "   Unnamed: 0  Unnamed: 0.1 loan_status  ...  age             education Gender\n",
              "0           0             0     PAIDOFF  ...   45  High School or Below      0\n",
              "1           2             2     PAIDOFF  ...   33              Bechalor      1\n",
              "2           3             3     PAIDOFF  ...   27               college      0\n",
              "3           4             4     PAIDOFF  ...   28               college      1\n",
              "4           6             6     PAIDOFF  ...   29               college      0\n",
              "\n",
              "[5 rows x 10 columns]"
            ]
          },
          "metadata": {
            "tags": []
          },
          "execution_count": 11
        }
      ]
    },
    {
      "cell_type": "markdown",
      "metadata": {
        "button": false,
        "deletable": true,
        "new_sheet": false,
        "run_control": {
          "read_only": false
        },
        "id": "XwRwv03KlzQY"
      },
      "source": [
        "## One Hot Encoding  \n",
        "#### How about education?"
      ]
    },
    {
      "cell_type": "code",
      "metadata": {
        "button": false,
        "collapsed": true,
        "deletable": true,
        "new_sheet": false,
        "run_control": {
          "read_only": false
        },
        "colab": {
          "base_uri": "https://localhost:8080/"
        },
        "id": "TbXufmKwlzQZ",
        "outputId": "8b6dd428-bb27-479c-f77e-f2374caf5405"
      },
      "source": [
        "df.groupby(['education'])['loan_status'].value_counts(normalize=True)"
      ],
      "execution_count": 12,
      "outputs": [
        {
          "output_type": "execute_result",
          "data": {
            "text/plain": [
              "education             loan_status\n",
              "Bechalor              PAIDOFF        0.750000\n",
              "                      COLLECTION     0.250000\n",
              "High School or Below  PAIDOFF        0.741722\n",
              "                      COLLECTION     0.258278\n",
              "Master or Above       COLLECTION     0.500000\n",
              "                      PAIDOFF        0.500000\n",
              "college               PAIDOFF        0.765101\n",
              "                      COLLECTION     0.234899\n",
              "Name: loan_status, dtype: float64"
            ]
          },
          "metadata": {
            "tags": []
          },
          "execution_count": 12
        }
      ]
    },
    {
      "cell_type": "markdown",
      "metadata": {
        "button": false,
        "deletable": true,
        "new_sheet": false,
        "run_control": {
          "read_only": false
        },
        "id": "ClMf7UE6lzQZ"
      },
      "source": [
        "#### Feature befor One Hot Encoding"
      ]
    },
    {
      "cell_type": "code",
      "metadata": {
        "button": false,
        "collapsed": true,
        "deletable": true,
        "new_sheet": false,
        "run_control": {
          "read_only": false
        },
        "colab": {
          "base_uri": "https://localhost:8080/",
          "height": 195
        },
        "id": "QPzKxMkulzQZ",
        "outputId": "f0a45ddb-36b8-41c6-9acd-e9838d1c3931"
      },
      "source": [
        "df[['Principal','terms','age','Gender','education']].head()"
      ],
      "execution_count": 15,
      "outputs": [
        {
          "output_type": "execute_result",
          "data": {
            "text/html": [
              "<div>\n",
              "<style scoped>\n",
              "    .dataframe tbody tr th:only-of-type {\n",
              "        vertical-align: middle;\n",
              "    }\n",
              "\n",
              "    .dataframe tbody tr th {\n",
              "        vertical-align: top;\n",
              "    }\n",
              "\n",
              "    .dataframe thead th {\n",
              "        text-align: right;\n",
              "    }\n",
              "</style>\n",
              "<table border=\"1\" class=\"dataframe\">\n",
              "  <thead>\n",
              "    <tr style=\"text-align: right;\">\n",
              "      <th></th>\n",
              "      <th>Principal</th>\n",
              "      <th>terms</th>\n",
              "      <th>age</th>\n",
              "      <th>Gender</th>\n",
              "      <th>education</th>\n",
              "    </tr>\n",
              "  </thead>\n",
              "  <tbody>\n",
              "    <tr>\n",
              "      <th>0</th>\n",
              "      <td>1000</td>\n",
              "      <td>30</td>\n",
              "      <td>45</td>\n",
              "      <td>0</td>\n",
              "      <td>High School or Below</td>\n",
              "    </tr>\n",
              "    <tr>\n",
              "      <th>1</th>\n",
              "      <td>1000</td>\n",
              "      <td>30</td>\n",
              "      <td>33</td>\n",
              "      <td>1</td>\n",
              "      <td>Bechalor</td>\n",
              "    </tr>\n",
              "    <tr>\n",
              "      <th>2</th>\n",
              "      <td>1000</td>\n",
              "      <td>15</td>\n",
              "      <td>27</td>\n",
              "      <td>0</td>\n",
              "      <td>college</td>\n",
              "    </tr>\n",
              "    <tr>\n",
              "      <th>3</th>\n",
              "      <td>1000</td>\n",
              "      <td>30</td>\n",
              "      <td>28</td>\n",
              "      <td>1</td>\n",
              "      <td>college</td>\n",
              "    </tr>\n",
              "    <tr>\n",
              "      <th>4</th>\n",
              "      <td>1000</td>\n",
              "      <td>30</td>\n",
              "      <td>29</td>\n",
              "      <td>0</td>\n",
              "      <td>college</td>\n",
              "    </tr>\n",
              "  </tbody>\n",
              "</table>\n",
              "</div>"
            ],
            "text/plain": [
              "   Principal  terms  age  Gender             education\n",
              "0       1000     30   45       0  High School or Below\n",
              "1       1000     30   33       1              Bechalor\n",
              "2       1000     15   27       0               college\n",
              "3       1000     30   28       1               college\n",
              "4       1000     30   29       0               college"
            ]
          },
          "metadata": {
            "tags": []
          },
          "execution_count": 15
        }
      ]
    },
    {
      "cell_type": "markdown",
      "metadata": {
        "button": false,
        "deletable": true,
        "new_sheet": false,
        "run_control": {
          "read_only": false
        },
        "id": "C0ztJ86jlzQa"
      },
      "source": [
        "#### Use one hot encoding technique to conver categorical varables to binary variables and append them to the feature Data Frame "
      ]
    },
    {
      "cell_type": "code",
      "metadata": {
        "button": false,
        "collapsed": true,
        "deletable": true,
        "new_sheet": false,
        "run_control": {
          "read_only": false
        },
        "colab": {
          "base_uri": "https://localhost:8080/",
          "height": 195
        },
        "id": "8V0ugtuQlzQa",
        "outputId": "af234a90-5df8-479f-a008-7ec5e973e4ee"
      },
      "source": [
        "Feature = df[['Principal','terms','age','Gender']]\n",
        "Feature = pd.concat([Feature,pd.get_dummies(df['education'])], axis=1)\n",
        "Feature.drop(['Master or Above'], axis = 1,inplace=True)\n",
        "Feature.head()\n"
      ],
      "execution_count": 18,
      "outputs": [
        {
          "output_type": "execute_result",
          "data": {
            "text/html": [
              "<div>\n",
              "<style scoped>\n",
              "    .dataframe tbody tr th:only-of-type {\n",
              "        vertical-align: middle;\n",
              "    }\n",
              "\n",
              "    .dataframe tbody tr th {\n",
              "        vertical-align: top;\n",
              "    }\n",
              "\n",
              "    .dataframe thead th {\n",
              "        text-align: right;\n",
              "    }\n",
              "</style>\n",
              "<table border=\"1\" class=\"dataframe\">\n",
              "  <thead>\n",
              "    <tr style=\"text-align: right;\">\n",
              "      <th></th>\n",
              "      <th>Principal</th>\n",
              "      <th>terms</th>\n",
              "      <th>age</th>\n",
              "      <th>Gender</th>\n",
              "      <th>Bechalor</th>\n",
              "      <th>High School or Below</th>\n",
              "      <th>college</th>\n",
              "    </tr>\n",
              "  </thead>\n",
              "  <tbody>\n",
              "    <tr>\n",
              "      <th>0</th>\n",
              "      <td>1000</td>\n",
              "      <td>30</td>\n",
              "      <td>45</td>\n",
              "      <td>0</td>\n",
              "      <td>0</td>\n",
              "      <td>1</td>\n",
              "      <td>0</td>\n",
              "    </tr>\n",
              "    <tr>\n",
              "      <th>1</th>\n",
              "      <td>1000</td>\n",
              "      <td>30</td>\n",
              "      <td>33</td>\n",
              "      <td>1</td>\n",
              "      <td>1</td>\n",
              "      <td>0</td>\n",
              "      <td>0</td>\n",
              "    </tr>\n",
              "    <tr>\n",
              "      <th>2</th>\n",
              "      <td>1000</td>\n",
              "      <td>15</td>\n",
              "      <td>27</td>\n",
              "      <td>0</td>\n",
              "      <td>0</td>\n",
              "      <td>0</td>\n",
              "      <td>1</td>\n",
              "    </tr>\n",
              "    <tr>\n",
              "      <th>3</th>\n",
              "      <td>1000</td>\n",
              "      <td>30</td>\n",
              "      <td>28</td>\n",
              "      <td>1</td>\n",
              "      <td>0</td>\n",
              "      <td>0</td>\n",
              "      <td>1</td>\n",
              "    </tr>\n",
              "    <tr>\n",
              "      <th>4</th>\n",
              "      <td>1000</td>\n",
              "      <td>30</td>\n",
              "      <td>29</td>\n",
              "      <td>0</td>\n",
              "      <td>0</td>\n",
              "      <td>0</td>\n",
              "      <td>1</td>\n",
              "    </tr>\n",
              "  </tbody>\n",
              "</table>\n",
              "</div>"
            ],
            "text/plain": [
              "   Principal  terms  age  Gender  Bechalor  High School or Below  college\n",
              "0       1000     30   45       0         0                     1        0\n",
              "1       1000     30   33       1         1                     0        0\n",
              "2       1000     15   27       0         0                     0        1\n",
              "3       1000     30   28       1         0                     0        1\n",
              "4       1000     30   29       0         0                     0        1"
            ]
          },
          "metadata": {
            "tags": []
          },
          "execution_count": 18
        }
      ]
    },
    {
      "cell_type": "markdown",
      "metadata": {
        "button": false,
        "deletable": true,
        "new_sheet": false,
        "run_control": {
          "read_only": false
        },
        "id": "HcjQly-9lzQb"
      },
      "source": [
        "### Feature selection"
      ]
    },
    {
      "cell_type": "markdown",
      "metadata": {
        "button": false,
        "deletable": true,
        "new_sheet": false,
        "run_control": {
          "read_only": false
        },
        "id": "JByxhdnalzQb"
      },
      "source": [
        "Lets defind feature sets, X:"
      ]
    },
    {
      "cell_type": "code",
      "metadata": {
        "button": false,
        "collapsed": true,
        "deletable": true,
        "new_sheet": false,
        "run_control": {
          "read_only": false
        },
        "colab": {
          "base_uri": "https://localhost:8080/",
          "height": 195
        },
        "id": "2GGEDyF_lzQb",
        "outputId": "a9c9365d-b632-4849-8248-7ce7ab900a12"
      },
      "source": [
        "X = Feature\n",
        "X[0:5]"
      ],
      "execution_count": 19,
      "outputs": [
        {
          "output_type": "execute_result",
          "data": {
            "text/html": [
              "<div>\n",
              "<style scoped>\n",
              "    .dataframe tbody tr th:only-of-type {\n",
              "        vertical-align: middle;\n",
              "    }\n",
              "\n",
              "    .dataframe tbody tr th {\n",
              "        vertical-align: top;\n",
              "    }\n",
              "\n",
              "    .dataframe thead th {\n",
              "        text-align: right;\n",
              "    }\n",
              "</style>\n",
              "<table border=\"1\" class=\"dataframe\">\n",
              "  <thead>\n",
              "    <tr style=\"text-align: right;\">\n",
              "      <th></th>\n",
              "      <th>Principal</th>\n",
              "      <th>terms</th>\n",
              "      <th>age</th>\n",
              "      <th>Gender</th>\n",
              "      <th>Bechalor</th>\n",
              "      <th>High School or Below</th>\n",
              "      <th>college</th>\n",
              "    </tr>\n",
              "  </thead>\n",
              "  <tbody>\n",
              "    <tr>\n",
              "      <th>0</th>\n",
              "      <td>1000</td>\n",
              "      <td>30</td>\n",
              "      <td>45</td>\n",
              "      <td>0</td>\n",
              "      <td>0</td>\n",
              "      <td>1</td>\n",
              "      <td>0</td>\n",
              "    </tr>\n",
              "    <tr>\n",
              "      <th>1</th>\n",
              "      <td>1000</td>\n",
              "      <td>30</td>\n",
              "      <td>33</td>\n",
              "      <td>1</td>\n",
              "      <td>1</td>\n",
              "      <td>0</td>\n",
              "      <td>0</td>\n",
              "    </tr>\n",
              "    <tr>\n",
              "      <th>2</th>\n",
              "      <td>1000</td>\n",
              "      <td>15</td>\n",
              "      <td>27</td>\n",
              "      <td>0</td>\n",
              "      <td>0</td>\n",
              "      <td>0</td>\n",
              "      <td>1</td>\n",
              "    </tr>\n",
              "    <tr>\n",
              "      <th>3</th>\n",
              "      <td>1000</td>\n",
              "      <td>30</td>\n",
              "      <td>28</td>\n",
              "      <td>1</td>\n",
              "      <td>0</td>\n",
              "      <td>0</td>\n",
              "      <td>1</td>\n",
              "    </tr>\n",
              "    <tr>\n",
              "      <th>4</th>\n",
              "      <td>1000</td>\n",
              "      <td>30</td>\n",
              "      <td>29</td>\n",
              "      <td>0</td>\n",
              "      <td>0</td>\n",
              "      <td>0</td>\n",
              "      <td>1</td>\n",
              "    </tr>\n",
              "  </tbody>\n",
              "</table>\n",
              "</div>"
            ],
            "text/plain": [
              "   Principal  terms  age  Gender  Bechalor  High School or Below  college\n",
              "0       1000     30   45       0         0                     1        0\n",
              "1       1000     30   33       1         1                     0        0\n",
              "2       1000     15   27       0         0                     0        1\n",
              "3       1000     30   28       1         0                     0        1\n",
              "4       1000     30   29       0         0                     0        1"
            ]
          },
          "metadata": {
            "tags": []
          },
          "execution_count": 19
        }
      ]
    },
    {
      "cell_type": "markdown",
      "metadata": {
        "button": false,
        "deletable": true,
        "new_sheet": false,
        "run_control": {
          "read_only": false
        },
        "id": "ssV3nkUKlzQc"
      },
      "source": [
        "What are our lables?"
      ]
    },
    {
      "cell_type": "code",
      "metadata": {
        "button": false,
        "collapsed": true,
        "deletable": true,
        "new_sheet": false,
        "run_control": {
          "read_only": false
        },
        "colab": {
          "base_uri": "https://localhost:8080/"
        },
        "id": "sM4-cfOtlzQc",
        "outputId": "70fc2e34-5cdc-4bef-ea28-6ebc3f9a8506"
      },
      "source": [
        "y = df['loan_status'].values\n",
        "y[0:5]"
      ],
      "execution_count": 20,
      "outputs": [
        {
          "output_type": "execute_result",
          "data": {
            "text/plain": [
              "array(['PAIDOFF', 'PAIDOFF', 'PAIDOFF', 'PAIDOFF', 'PAIDOFF'],\n",
              "      dtype=object)"
            ]
          },
          "metadata": {
            "tags": []
          },
          "execution_count": 20
        }
      ]
    },
    {
      "cell_type": "markdown",
      "metadata": {
        "button": false,
        "deletable": true,
        "new_sheet": false,
        "run_control": {
          "read_only": false
        },
        "id": "DMNX7D9NlzQc"
      },
      "source": [
        "## Normalize Data "
      ]
    },
    {
      "cell_type": "markdown",
      "metadata": {
        "button": false,
        "deletable": true,
        "new_sheet": false,
        "run_control": {
          "read_only": false
        },
        "id": "JV3X5DpBlzQd"
      },
      "source": [
        "Data Standardization give data zero mean and unit variance (technically should be done after train test split )"
      ]
    },
    {
      "cell_type": "code",
      "metadata": {
        "button": false,
        "collapsed": true,
        "deletable": true,
        "new_sheet": false,
        "run_control": {
          "read_only": false
        },
        "colab": {
          "base_uri": "https://localhost:8080/"
        },
        "id": "nPr-Uy1IlzQg",
        "outputId": "604a099c-7513-4d0b-b8b4-dc32ea9ca4a1"
      },
      "source": [
        "X= preprocessing.StandardScaler().fit(X).transform(X)\n",
        "X[0:5]"
      ],
      "execution_count": 21,
      "outputs": [
        {
          "output_type": "execute_result",
          "data": {
            "text/plain": [
              "array([[ 0.51578458,  0.92071769,  2.33152555, -0.42056004, -0.38170062,\n",
              "         1.13639374, -0.86968108],\n",
              "       [ 0.51578458,  0.92071769,  0.34170148,  2.37778177,  2.61985426,\n",
              "        -0.87997669, -0.86968108],\n",
              "       [ 0.51578458, -0.95911111, -0.65321055, -0.42056004, -0.38170062,\n",
              "        -0.87997669,  1.14984679],\n",
              "       [ 0.51578458,  0.92071769, -0.48739188,  2.37778177, -0.38170062,\n",
              "        -0.87997669,  1.14984679],\n",
              "       [ 0.51578458,  0.92071769, -0.3215732 , -0.42056004, -0.38170062,\n",
              "        -0.87997669,  1.14984679]])"
            ]
          },
          "metadata": {
            "tags": []
          },
          "execution_count": 21
        }
      ]
    },
    {
      "cell_type": "markdown",
      "metadata": {
        "button": false,
        "deletable": true,
        "new_sheet": false,
        "run_control": {
          "read_only": false
        },
        "id": "QLfa898AlzQh"
      },
      "source": [
        "# Classification "
      ]
    },
    {
      "cell_type": "markdown",
      "metadata": {
        "button": false,
        "deletable": true,
        "new_sheet": false,
        "run_control": {
          "read_only": false
        },
        "id": "bdLnsvMOlzQh"
      },
      "source": [
        "Now, it is your turn, use the training set to build an accurate model. Then use the test set to report the accuracy of the model\n",
        "You should use the following algorithm:\n",
        "- K Nearest Neighbor(KNN)\n",
        "- Decision Tree\n",
        "- Support Vector Machine\n",
        "- Logistic Regression\n",
        "\n",
        "\n",
        "\n",
        "__ Notice:__ \n",
        "- You can go above and change the pre-processing, feature selection, feature-extraction, and so on, to make a better model.\n",
        "- You should use either scikit-learn, Scipy or Numpy libraries for developing the classification algorithms.\n",
        "- You should include the code of the algorithm in the following cells."
      ]
    },
    {
      "cell_type": "markdown",
      "metadata": {
        "id": "Zc_kAfpwlzQi"
      },
      "source": [
        "# K Nearest Neighbor(KNN)\n",
        "Notice: You should find the best k to build the model with the best accuracy.  \n",
        "**warning:** You should not use the __loan_test.csv__ for finding the best k, however, you can split your train_loan.csv into train and test to find the best __k__."
      ]
    },
    {
      "cell_type": "code",
      "metadata": {
        "colab": {
          "base_uri": "https://localhost:8080/"
        },
        "id": "i01KEKgZlzQi",
        "outputId": "05ca4409-43d6-4d43-d2b9-78a9545ee197"
      },
      "source": [
        "from sklearn.model_selection import train_test_split\r\n",
        "X_train, X_test, y_train, y_test = train_test_split( X, y, test_size=0.2, random_state=4)\r\n",
        "print ('Train set:', X_train.shape,  y_train.shape)\r\n",
        "print ('Test set:', X_test.shape,  y_test.shape)\r\n"
      ],
      "execution_count": 22,
      "outputs": [
        {
          "output_type": "stream",
          "text": [
            "Train set: (276, 7) (276,)\n",
            "Test set: (70, 7) (70,)\n"
          ],
          "name": "stdout"
        }
      ]
    },
    {
      "cell_type": "code",
      "metadata": {
        "id": "1drDo8p5lzQi"
      },
      "source": [
        "from sklearn.neighbors import KNeighborsClassifier\r\n",
        "from sklearn import metrics"
      ],
      "execution_count": 23,
      "outputs": []
    },
    {
      "cell_type": "code",
      "metadata": {
        "colab": {
          "base_uri": "https://localhost:8080/"
        },
        "id": "sIlSL0lBlzQj",
        "outputId": "1430643c-15b5-445b-d26d-8fa75613909f"
      },
      "source": [
        "Ks = 20\r\n",
        "mean_acc = np.zeros((Ks-1))\r\n",
        "std_acc = np.zeros((Ks-1))\r\n",
        "ConfustionMx = [];\r\n",
        "for n in range(1,Ks):\r\n",
        "    \r\n",
        "    #Train Model and Predict  \r\n",
        "    neigh = KNeighborsClassifier(n_neighbors = n).fit(X_train,y_train)\r\n",
        "    yhat=neigh.predict(X_test)\r\n",
        "    mean_acc[n-1] = metrics.accuracy_score(y_test, yhat)\r\n",
        "\r\n",
        "    \r\n",
        "    std_acc[n-1]=np.std(yhat==y_test)/np.sqrt(yhat.shape[0])\r\n",
        "\r\n",
        "print(\"The best accuracy was with\", mean_acc.max(), \"with k = \", mean_acc.argmax()+1)"
      ],
      "execution_count": 24,
      "outputs": [
        {
          "output_type": "stream",
          "text": [
            "The best accuracy was with 0.8 with k =  13\n"
          ],
          "name": "stdout"
        }
      ]
    },
    {
      "cell_type": "code",
      "metadata": {
        "colab": {
          "base_uri": "https://localhost:8080/"
        },
        "id": "NvWJ4WfSsfi-",
        "outputId": "22dd1def-48b1-4582-f184-0614e94c09c8"
      },
      "source": [
        "k = 13\r\n",
        "neigh7 = KNeighborsClassifier(n_neighbors = k).fit(X_train, y_train)\r\n",
        "knn_yhat = neigh7.predict(X_test)\r\n",
        "print(\"Accuracy: \", metrics.accuracy_score(y_test, knn_yhat))"
      ],
      "execution_count": 26,
      "outputs": [
        {
          "output_type": "stream",
          "text": [
            "Accuracy:  0.8\n"
          ],
          "name": "stdout"
        }
      ]
    },
    {
      "cell_type": "code",
      "metadata": {
        "id": "sTtWRBxMsfmV"
      },
      "source": [
        ""
      ],
      "execution_count": null,
      "outputs": []
    },
    {
      "cell_type": "markdown",
      "metadata": {
        "id": "hsSm8aP5lzQj"
      },
      "source": [
        "# Decision Tree"
      ]
    },
    {
      "cell_type": "code",
      "metadata": {
        "id": "POlW8FDslzQj"
      },
      "source": [
        "from sklearn.tree import DecisionTreeClassifier\r\n",
        "from sklearn import metrics"
      ],
      "execution_count": 27,
      "outputs": []
    },
    {
      "cell_type": "code",
      "metadata": {
        "colab": {
          "base_uri": "https://localhost:8080/"
        },
        "id": "yax_b-kOlzQk",
        "outputId": "fda5b580-9c8b-4490-c977-a1e9fb332f47"
      },
      "source": [
        "modTree = DecisionTreeClassifier(criterion=\"entropy\", max_depth = 4)\r\n",
        "modTree.fit(X_train, y_train)\r\n",
        "predTree = modTree.predict(X_test)\r\n",
        "print(\"predited: \", predTree[0:5])\r\n",
        "print(\"test set: \", y_test[0:5])\r\n",
        "print(\"Accuracy: \", metrics.accuracy_score(y_test, predTree))"
      ],
      "execution_count": 28,
      "outputs": [
        {
          "output_type": "stream",
          "text": [
            "predited:  ['PAIDOFF' 'PAIDOFF' 'PAIDOFF' 'PAIDOFF' 'PAIDOFF']\n",
            "test set:  ['PAIDOFF' 'PAIDOFF' 'PAIDOFF' 'PAIDOFF' 'PAIDOFF']\n",
            "Accuracy:  0.7857142857142857\n"
          ],
          "name": "stdout"
        }
      ]
    },
    {
      "cell_type": "code",
      "metadata": {
        "id": "nnOEarwWlzQk"
      },
      "source": [
        ""
      ],
      "execution_count": null,
      "outputs": []
    },
    {
      "cell_type": "markdown",
      "metadata": {
        "id": "uNQTIKzelzQk"
      },
      "source": [
        "# Support Vector Machine"
      ]
    },
    {
      "cell_type": "code",
      "metadata": {
        "id": "g0HK29OVlzQk"
      },
      "source": [
        "from sklearn.svm import SVC"
      ],
      "execution_count": 29,
      "outputs": []
    },
    {
      "cell_type": "code",
      "metadata": {
        "colab": {
          "base_uri": "https://localhost:8080/"
        },
        "id": "lXoK8dzZlzQl",
        "outputId": "d0a696be-a314-4068-9d9a-1822810473e6"
      },
      "source": [
        "clf = SVC(gamma = 'auto')\r\n",
        "clf.fit(X_train, y_train)\r\n",
        "clf_pred = clf.predict(X_test)\r\n",
        "print(\"Predicted: \", metrics.accuracy_score(y_test, clf_pred))"
      ],
      "execution_count": 30,
      "outputs": [
        {
          "output_type": "stream",
          "text": [
            "Predicted:  0.7857142857142857\n"
          ],
          "name": "stdout"
        }
      ]
    },
    {
      "cell_type": "code",
      "metadata": {
        "id": "WOxiPXCYlzQl"
      },
      "source": [
        ""
      ],
      "execution_count": null,
      "outputs": []
    },
    {
      "cell_type": "markdown",
      "metadata": {
        "id": "gNn-NdLmlzQl"
      },
      "source": [
        "# Logistic Regression"
      ]
    },
    {
      "cell_type": "code",
      "metadata": {
        "id": "naMkFKvIlzQl"
      },
      "source": [
        "# import require libraries\r\n",
        "from sklearn.linear_model import LogisticRegression\r\n",
        "from sklearn.metrics import confusion_matrix\r\n",
        "from sklearn.metrics import accuracy_score"
      ],
      "execution_count": 31,
      "outputs": []
    },
    {
      "cell_type": "code",
      "metadata": {
        "id": "TJA_K8EslzQm"
      },
      "source": [
        "\r\n",
        "# fit the model\r\n",
        "LR = LogisticRegression(C=0.01, solver='liblinear').fit(X_train,y_train)"
      ],
      "execution_count": 32,
      "outputs": []
    },
    {
      "cell_type": "code",
      "metadata": {
        "colab": {
          "base_uri": "https://localhost:8080/"
        },
        "id": "BetWUM__lzQm",
        "outputId": "e5d8ef2f-864c-4f21-d52c-0b2de83f7704"
      },
      "source": [
        "# predictions and probabilities\r\n",
        "LR_yhat = LR.predict(X_test)\r\n",
        "yhat_proba = LR.predict_proba(X_test)\r\n",
        "print(\"predicted: \", yhat[0:5])\r\n",
        "print(\"test set: \", y_test[0:5])\r\n",
        "print(\"proba: \", yhat_proba[0:5])\r\n",
        "print(\"Accuracy: \", accuracy_score(y_test, LR_yhat))"
      ],
      "execution_count": 33,
      "outputs": [
        {
          "output_type": "stream",
          "text": [
            "predicted:  ['PAIDOFF' 'PAIDOFF' 'PAIDOFF' 'PAIDOFF' 'PAIDOFF']\n",
            "test set:  ['PAIDOFF' 'PAIDOFF' 'PAIDOFF' 'PAIDOFF' 'PAIDOFF']\n",
            "proba:  [[0.4349857  0.5650143 ]\n",
            " [0.38243441 0.61756559]\n",
            " [0.39982337 0.60017663]\n",
            " [0.44825132 0.55174868]\n",
            " [0.42310356 0.57689644]]\n",
            "Accuracy:  0.7857142857142857\n"
          ],
          "name": "stdout"
        }
      ]
    },
    {
      "cell_type": "markdown",
      "metadata": {
        "id": "4r3h9r7qlzQm"
      },
      "source": [
        "# Model Evaluation using Test set"
      ]
    },
    {
      "cell_type": "code",
      "metadata": {
        "id": "rhJsRIRJlzQm"
      },
      "source": [
        "from sklearn.metrics import jaccard_similarity_score\n",
        "from sklearn.metrics import f1_score\n",
        "from sklearn.metrics import log_loss"
      ],
      "execution_count": 34,
      "outputs": []
    },
    {
      "cell_type": "markdown",
      "metadata": {
        "id": "4lZjsuQ4lzQn"
      },
      "source": [
        "First, download and load the test set:"
      ]
    },
    {
      "cell_type": "code",
      "metadata": {
        "colab": {
          "base_uri": "https://localhost:8080/"
        },
        "id": "_9FJW1P1lzQn",
        "outputId": "2b0c5357-2bf2-4f2c-bcb8-6f031e9b25fc"
      },
      "source": [
        "!wget -O loan_test.csv https://s3-api.us-geo.objectstorage.softlayer.net/cf-courses-data/CognitiveClass/ML0101ENv3/labs/loan_test.csv"
      ],
      "execution_count": 35,
      "outputs": [
        {
          "output_type": "stream",
          "text": [
            "--2021-02-16 16:37:15--  https://s3-api.us-geo.objectstorage.softlayer.net/cf-courses-data/CognitiveClass/ML0101ENv3/labs/loan_test.csv\n",
            "Resolving s3-api.us-geo.objectstorage.softlayer.net (s3-api.us-geo.objectstorage.softlayer.net)... 67.228.254.196\n",
            "Connecting to s3-api.us-geo.objectstorage.softlayer.net (s3-api.us-geo.objectstorage.softlayer.net)|67.228.254.196|:443... connected.\n",
            "HTTP request sent, awaiting response... 200 OK\n",
            "Length: 3642 (3.6K) [text/csv]\n",
            "Saving to: ‘loan_test.csv’\n",
            "\n",
            "loan_test.csv       100%[===================>]   3.56K  --.-KB/s    in 0s      \n",
            "\n",
            "2021-02-16 16:37:15 (782 MB/s) - ‘loan_test.csv’ saved [3642/3642]\n",
            "\n"
          ],
          "name": "stdout"
        }
      ]
    },
    {
      "cell_type": "markdown",
      "metadata": {
        "button": false,
        "deletable": true,
        "new_sheet": false,
        "run_control": {
          "read_only": false
        },
        "id": "NyOuOI9dlzQn"
      },
      "source": [
        "### Load Test set for evaluation "
      ]
    },
    {
      "cell_type": "code",
      "metadata": {
        "button": false,
        "collapsed": true,
        "deletable": true,
        "new_sheet": false,
        "run_control": {
          "read_only": false
        },
        "colab": {
          "base_uri": "https://localhost:8080/"
        },
        "id": "_WCs_mFelzQn",
        "outputId": "b9be29d3-c911-4b70-8c67-3b4c6084a48f"
      },
      "source": [
        "test_df = pd.read_csv('loan_test.csv')\n",
        "y_true = test_df['loan_status'].values\n",
        "y_true[0:5]"
      ],
      "execution_count": 36,
      "outputs": [
        {
          "output_type": "execute_result",
          "data": {
            "text/plain": [
              "array(['PAIDOFF', 'PAIDOFF', 'PAIDOFF', 'PAIDOFF', 'PAIDOFF'],\n",
              "      dtype=object)"
            ]
          },
          "metadata": {
            "tags": []
          },
          "execution_count": 36
        }
      ]
    },
    {
      "cell_type": "code",
      "metadata": {
        "colab": {
          "base_uri": "https://localhost:8080/"
        },
        "id": "SoVimj-VlzQo",
        "outputId": "e569ac65-84b6-4ffe-f656-ae71a946a667"
      },
      "source": [
        "knn = knn_yhat[0:54]\r\n",
        "Dtree = predTree[0:54]\r\n",
        "LogReg = LR_yhat[0:54]\r\n",
        "svm_pred = clf_pred[0:54]\r\n",
        "yhat_proba = yhat_proba[0:54]\r\n",
        "model_predictions = [knn, Dtree, svm_pred, LogReg]\r\n",
        "model_predictions[0:5]"
      ],
      "execution_count": 38,
      "outputs": [
        {
          "output_type": "execute_result",
          "data": {
            "text/plain": [
              "[array(['PAIDOFF', 'PAIDOFF', 'PAIDOFF', 'PAIDOFF', 'PAIDOFF', 'PAIDOFF',\n",
              "        'PAIDOFF', 'PAIDOFF', 'PAIDOFF', 'PAIDOFF', 'PAIDOFF', 'PAIDOFF',\n",
              "        'PAIDOFF', 'PAIDOFF', 'PAIDOFF', 'PAIDOFF', 'PAIDOFF', 'PAIDOFF',\n",
              "        'PAIDOFF', 'PAIDOFF', 'PAIDOFF', 'PAIDOFF', 'COLLECTION',\n",
              "        'PAIDOFF', 'PAIDOFF', 'PAIDOFF', 'PAIDOFF', 'PAIDOFF', 'PAIDOFF',\n",
              "        'PAIDOFF', 'PAIDOFF', 'PAIDOFF', 'PAIDOFF', 'PAIDOFF', 'PAIDOFF',\n",
              "        'PAIDOFF', 'PAIDOFF', 'PAIDOFF', 'PAIDOFF', 'PAIDOFF', 'PAIDOFF',\n",
              "        'PAIDOFF', 'PAIDOFF', 'PAIDOFF', 'PAIDOFF', 'PAIDOFF', 'PAIDOFF',\n",
              "        'PAIDOFF', 'PAIDOFF', 'PAIDOFF', 'PAIDOFF', 'PAIDOFF', 'PAIDOFF',\n",
              "        'PAIDOFF'], dtype=object),\n",
              " array(['PAIDOFF', 'PAIDOFF', 'PAIDOFF', 'PAIDOFF', 'PAIDOFF', 'PAIDOFF',\n",
              "        'PAIDOFF', 'PAIDOFF', 'PAIDOFF', 'PAIDOFF', 'PAIDOFF', 'PAIDOFF',\n",
              "        'PAIDOFF', 'PAIDOFF', 'PAIDOFF', 'PAIDOFF', 'PAIDOFF', 'PAIDOFF',\n",
              "        'PAIDOFF', 'PAIDOFF', 'PAIDOFF', 'PAIDOFF', 'PAIDOFF', 'PAIDOFF',\n",
              "        'PAIDOFF', 'PAIDOFF', 'PAIDOFF', 'PAIDOFF', 'PAIDOFF', 'PAIDOFF',\n",
              "        'PAIDOFF', 'PAIDOFF', 'PAIDOFF', 'PAIDOFF', 'PAIDOFF', 'PAIDOFF',\n",
              "        'PAIDOFF', 'PAIDOFF', 'PAIDOFF', 'PAIDOFF', 'PAIDOFF', 'PAIDOFF',\n",
              "        'PAIDOFF', 'PAIDOFF', 'PAIDOFF', 'PAIDOFF', 'PAIDOFF', 'PAIDOFF',\n",
              "        'PAIDOFF', 'PAIDOFF', 'PAIDOFF', 'PAIDOFF', 'PAIDOFF', 'PAIDOFF'],\n",
              "       dtype=object),\n",
              " array(['PAIDOFF', 'PAIDOFF', 'PAIDOFF', 'PAIDOFF', 'PAIDOFF', 'PAIDOFF',\n",
              "        'PAIDOFF', 'PAIDOFF', 'PAIDOFF', 'PAIDOFF', 'PAIDOFF', 'PAIDOFF',\n",
              "        'PAIDOFF', 'PAIDOFF', 'PAIDOFF', 'PAIDOFF', 'PAIDOFF', 'PAIDOFF',\n",
              "        'PAIDOFF', 'PAIDOFF', 'PAIDOFF', 'PAIDOFF', 'PAIDOFF', 'PAIDOFF',\n",
              "        'PAIDOFF', 'PAIDOFF', 'PAIDOFF', 'PAIDOFF', 'PAIDOFF', 'PAIDOFF',\n",
              "        'PAIDOFF', 'PAIDOFF', 'PAIDOFF', 'PAIDOFF', 'PAIDOFF', 'PAIDOFF',\n",
              "        'PAIDOFF', 'PAIDOFF', 'PAIDOFF', 'PAIDOFF', 'PAIDOFF', 'PAIDOFF',\n",
              "        'PAIDOFF', 'PAIDOFF', 'PAIDOFF', 'PAIDOFF', 'PAIDOFF', 'PAIDOFF',\n",
              "        'PAIDOFF', 'PAIDOFF', 'PAIDOFF', 'PAIDOFF', 'PAIDOFF', 'PAIDOFF'],\n",
              "       dtype=object),\n",
              " array(['PAIDOFF', 'PAIDOFF', 'PAIDOFF', 'PAIDOFF', 'PAIDOFF', 'PAIDOFF',\n",
              "        'PAIDOFF', 'PAIDOFF', 'PAIDOFF', 'PAIDOFF', 'PAIDOFF', 'PAIDOFF',\n",
              "        'PAIDOFF', 'PAIDOFF', 'PAIDOFF', 'PAIDOFF', 'PAIDOFF', 'PAIDOFF',\n",
              "        'PAIDOFF', 'PAIDOFF', 'PAIDOFF', 'PAIDOFF', 'PAIDOFF', 'PAIDOFF',\n",
              "        'PAIDOFF', 'PAIDOFF', 'PAIDOFF', 'PAIDOFF', 'PAIDOFF', 'PAIDOFF',\n",
              "        'PAIDOFF', 'PAIDOFF', 'PAIDOFF', 'PAIDOFF', 'PAIDOFF', 'PAIDOFF',\n",
              "        'PAIDOFF', 'PAIDOFF', 'PAIDOFF', 'PAIDOFF', 'PAIDOFF', 'PAIDOFF',\n",
              "        'PAIDOFF', 'PAIDOFF', 'PAIDOFF', 'PAIDOFF', 'PAIDOFF', 'PAIDOFF',\n",
              "        'PAIDOFF', 'PAIDOFF', 'PAIDOFF', 'PAIDOFF', 'PAIDOFF', 'PAIDOFF'],\n",
              "       dtype=object)]"
            ]
          },
          "metadata": {
            "tags": []
          },
          "execution_count": 38
        }
      ]
    },
    {
      "cell_type": "code",
      "metadata": {
        "id": "EitmL10BlzQo"
      },
      "source": [
        "scores = []\r\n",
        "for i in range(4):\r\n",
        "            scores.append([\r\n",
        "                metrics.accuracy_score(y_true, model_predictions[i]),\r\n",
        "                metrics.f1_score(y_true, model_predictions[i], average = 'weighted')\r\n",
        "               # metrics.log_loss(y_true, yhat_proba[0:54])\r\n",
        "            ])"
      ],
      "execution_count": 39,
      "outputs": []
    },
    {
      "cell_type": "code",
      "metadata": {
        "colab": {
          "base_uri": "https://localhost:8080/"
        },
        "id": "s-vwQa5DlzQo",
        "outputId": "4c9ffa7f-9af7-4fcd-8f98-16f48d18564c"
      },
      "source": [
        "logLoss = [\r\n",
        "    'NA',\r\n",
        "    'NA',\r\n",
        "    'NA',\r\n",
        "    metrics.log_loss(y_true, yhat_proba)\r\n",
        "]\r\n",
        "logLoss"
      ],
      "execution_count": 40,
      "outputs": [
        {
          "output_type": "execute_result",
          "data": {
            "text/plain": [
              "['NA', 'NA', 'NA', 0.6155054766296554]"
            ]
          },
          "metadata": {
            "tags": []
          },
          "execution_count": 40
        }
      ]
    },
    {
      "cell_type": "code",
      "metadata": {
        "id": "tmPQtkGNtdI1"
      },
      "source": [
        "algorithm = ['KNN', 'Decision Tree', 'SVM', 'LogisticRegression']"
      ],
      "execution_count": 42,
      "outputs": []
    },
    {
      "cell_type": "code",
      "metadata": {
        "colab": {
          "base_uri": "https://localhost:8080/",
          "height": 166
        },
        "id": "1XtAThsetU_W",
        "outputId": "16783ff4-d265-4b2b-9ae9-53d9faedf6f9"
      },
      "source": [
        "df_score = pd.DataFrame(scores, index = algorithm, columns = ['Jaccard', 'F1-score'])\r\n",
        "df_score['LogLoss'] = logLoss\r\n",
        "df_score"
      ],
      "execution_count": 43,
      "outputs": [
        {
          "output_type": "execute_result",
          "data": {
            "text/html": [
              "<div>\n",
              "<style scoped>\n",
              "    .dataframe tbody tr th:only-of-type {\n",
              "        vertical-align: middle;\n",
              "    }\n",
              "\n",
              "    .dataframe tbody tr th {\n",
              "        vertical-align: top;\n",
              "    }\n",
              "\n",
              "    .dataframe thead th {\n",
              "        text-align: right;\n",
              "    }\n",
              "</style>\n",
              "<table border=\"1\" class=\"dataframe\">\n",
              "  <thead>\n",
              "    <tr style=\"text-align: right;\">\n",
              "      <th></th>\n",
              "      <th>Jaccard</th>\n",
              "      <th>F1-score</th>\n",
              "      <th>LogLoss</th>\n",
              "    </tr>\n",
              "  </thead>\n",
              "  <tbody>\n",
              "    <tr>\n",
              "      <th>KNN</th>\n",
              "      <td>0.722222</td>\n",
              "      <td>0.621266</td>\n",
              "      <td>NA</td>\n",
              "    </tr>\n",
              "    <tr>\n",
              "      <th>Decision Tree</th>\n",
              "      <td>0.740741</td>\n",
              "      <td>0.630418</td>\n",
              "      <td>NA</td>\n",
              "    </tr>\n",
              "    <tr>\n",
              "      <th>SVM</th>\n",
              "      <td>0.740741</td>\n",
              "      <td>0.630418</td>\n",
              "      <td>NA</td>\n",
              "    </tr>\n",
              "    <tr>\n",
              "      <th>LogisticRegression</th>\n",
              "      <td>0.740741</td>\n",
              "      <td>0.630418</td>\n",
              "      <td>0.615505</td>\n",
              "    </tr>\n",
              "  </tbody>\n",
              "</table>\n",
              "</div>"
            ],
            "text/plain": [
              "                     Jaccard  F1-score   LogLoss\n",
              "KNN                 0.722222  0.621266        NA\n",
              "Decision Tree       0.740741  0.630418        NA\n",
              "SVM                 0.740741  0.630418        NA\n",
              "LogisticRegression  0.740741  0.630418  0.615505"
            ]
          },
          "metadata": {
            "tags": []
          },
          "execution_count": 43
        }
      ]
    },
    {
      "cell_type": "markdown",
      "metadata": {
        "id": "6pyz0RJ7lzQp"
      },
      "source": [
        "# Report\n",
        "You should be able to report the accuracy of the built model using different evaluation metrics:"
      ]
    },
    {
      "cell_type": "markdown",
      "metadata": {
        "id": "dG45-lqklzQp"
      },
      "source": [
        "| Algorithm          | Jaccard | F1-score | LogLoss |\n",
        "|--------------------|---------|----------|---------|\n",
        "| KNN                | ?       | ?        | NA      |\n",
        "| Decision Tree      | ?       | ?        | NA      |\n",
        "| SVM                | ?       | ?        | NA      |\n",
        "| LogisticRegression | ?       | ?        | ?       |"
      ]
    },
    {
      "cell_type": "markdown",
      "metadata": {
        "button": false,
        "deletable": true,
        "new_sheet": false,
        "run_control": {
          "read_only": false
        },
        "id": "fOTHqXJzlzQp"
      },
      "source": [
        "<h2>Want to learn more?</h2>\n",
        "\n",
        "IBM SPSS Modeler is a comprehensive analytics platform that has many machine learning algorithms. It has been designed to bring predictive intelligence to decisions made by individuals, by groups, by systems – by your enterprise as a whole. A free trial is available through this course, available here: <a href=\"http://cocl.us/ML0101EN-SPSSModeler\">SPSS Modeler</a>\n",
        "\n",
        "Also, you can use Watson Studio to run these notebooks faster with bigger datasets. Watson Studio is IBM's leading cloud solution for data scientists, built by data scientists. With Jupyter notebooks, RStudio, Apache Spark and popular libraries pre-packaged in the cloud, Watson Studio enables data scientists to collaborate on their projects without having to install anything. Join the fast-growing community of Watson Studio users today with a free account at <a href=\"https://cocl.us/ML0101EN_DSX\">Watson Studio</a>\n",
        "\n",
        "<h3>Thanks for completing this lesson!</h3>\n",
        "\n",
        "<h4>Author:  <a href=\"https://ca.linkedin.com/in/saeedaghabozorgi\">Saeed Aghabozorgi</a></h4>\n",
        "<p><a href=\"https://ca.linkedin.com/in/saeedaghabozorgi\">Saeed Aghabozorgi</a>, PhD is a Data Scientist in IBM with a track record of developing enterprise level applications that substantially increases clients’ ability to turn data into actionable knowledge. He is a researcher in data mining field and expert in developing advanced analytic methods like machine learning and statistical modelling on large datasets.</p>\n",
        "\n",
        "<hr>\n",
        "\n",
        "<p>Copyright &copy; 2018 <a href=\"https://cocl.us/DX0108EN_CC\">Cognitive Class</a>. This notebook and its source code are released under the terms of the <a href=\"https://bigdatauniversity.com/mit-license/\">MIT License</a>.</p>"
      ]
    }
  ]
}